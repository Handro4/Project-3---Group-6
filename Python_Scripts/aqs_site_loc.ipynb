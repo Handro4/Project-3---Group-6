{
 "cells": [
  {
   "cell_type": "code",
   "execution_count": 1,
   "metadata": {},
   "outputs": [],
   "source": [
    "# Import dependencies\n",
    "import requests\n",
    "import json\n",
    "from config import api_key, email\n",
    "from pprint import pprint\n",
    "import time\n",
    "import os\n",
    "import csv as CsV\n",
    "import pandas as pd\n",
    "import statistics as st"
   ]
  },
  {
   "cell_type": "code",
   "execution_count": 2,
   "metadata": {},
   "outputs": [],
   "source": [
    "# Set variables to use with the URL\n",
    "url_base = \"https://aqs.epa.gov/data/api/annualData/byState\"\n",
    "param = \"&param=42101,42401,42602,44201,88101\"\n",
    "api_key_value = \"&key=\" + api_key\n",
    "dates = \"&bdate=20200101&edate=20201231&\"\n",
    "state = \"state=\"\n",
    "email_address = \"?email=\" + email\n",
    "query_url = url_base + email_address + api_key_value + param + dates + state"
   ]
  },
  {
   "cell_type": "code",
   "execution_count": 3,
   "metadata": {},
   "outputs": [
    {
     "name": "stdout",
     "output_type": "stream",
     "text": [
      "1\n",
      "4\n",
      "5\n",
      "6\n",
      "8\n"
     ]
    }
   ],
   "source": [
    "location_dict = {'Site Number': [], 'State': [], 'Latitude': [], 'Longitude': []}\n",
    "\n",
    "# For loop to loop through the data by state code\n",
    "for i in range(1,9):\n",
    "    if i in [2, 3, 7]:\n",
    "        continue\n",
    "     \n",
    "    aqi_response = requests.get(f\"{query_url}0{i}\")\n",
    "    aqi_json = aqi_response.json()\n",
    "    data = aqi_json['Data']\n",
    "    print(i)\n",
    "    for element in data:\n",
    "        if element['site_number'] not in location_dict['Site Number']:\n",
    "            location_dict['Site Number'].append(element['site_number'])\n",
    "            location_dict['State'].append(element['state'])\n",
    "            location_dict['Latitude'].append(element['latitude'])\n",
    "            location_dict['Longitude'].append(element['longitude'])\n",
    "\n",
    "    time.sleep(10)"
   ]
  },
  {
   "cell_type": "code",
   "execution_count": 4,
   "metadata": {},
   "outputs": [
    {
     "name": "stdout",
     "output_type": "stream",
     "text": [
      "10\n",
      "11\n",
      "12\n",
      "13\n",
      "14\n",
      "15\n",
      "16\n",
      "17\n",
      "18\n",
      "19\n",
      "20\n",
      "21\n",
      "22\n",
      "23\n",
      "24\n",
      "25\n",
      "26\n",
      "27\n",
      "28\n",
      "29\n",
      "30\n",
      "31\n",
      "32\n",
      "33\n",
      "34\n",
      "35\n",
      "36\n",
      "37\n",
      "38\n",
      "39\n",
      "40\n",
      "41\n",
      "42\n",
      "43\n",
      "44\n",
      "45\n",
      "46\n",
      "47\n",
      "48\n",
      "49\n",
      "50\n",
      "51\n",
      "52\n",
      "53\n",
      "54\n",
      "55\n",
      "56\n"
     ]
    }
   ],
   "source": [
    "location_dict2 = {'Site Number': [], 'State': [], 'Latitude': [], 'Longitude': []}\n",
    "\n",
    "# For loop to loop through the data by state code\n",
    "for i in range(10,57):\n",
    "     \n",
    "    aqi_response = requests.get(f\"{query_url}{i}\")\n",
    "    aqi_json = aqi_response.json()\n",
    "    data = aqi_json['Data']\n",
    "    print(i)\n",
    "    for element in data:\n",
    "        if element['site_number'] not in location_dict['Site Number']:\n",
    "            location_dict['Site Number'].append(element['site_number'])\n",
    "            location_dict['State'].append(element['state'])\n",
    "            location_dict['Latitude'].append(element['latitude'])\n",
    "            location_dict['Longitude'].append(element['longitude'])\n",
    "\n",
    "    time.sleep(10)"
   ]
  },
  {
   "cell_type": "code",
   "execution_count": 5,
   "metadata": {},
   "outputs": [],
   "source": [
    "location1_df = pd.DataFrame(location_dict)\n",
    "location2_df = pd.DataFrame(location_dict2)"
   ]
  },
  {
   "cell_type": "code",
   "execution_count": 6,
   "metadata": {},
   "outputs": [],
   "source": [
    "location_csv = pd.concat([location1_df, location2_df], ignore_index=True)"
   ]
  },
  {
   "cell_type": "code",
   "execution_count": 7,
   "metadata": {},
   "outputs": [
    {
     "data": {
      "text/plain": [
       "Site Number      int64\n",
       "State           object\n",
       "Latitude       float64\n",
       "Longitude      float64\n",
       "dtype: object"
      ]
     },
     "execution_count": 7,
     "metadata": {},
     "output_type": "execute_result"
    }
   ],
   "source": [
    "# Change dtype for site number to int\n",
    "location_csv['Site Number'] = location_csv['Site Number'].astype(int)\n",
    "location_csv.dtypes"
   ]
  },
  {
   "cell_type": "code",
   "execution_count": 8,
   "metadata": {},
   "outputs": [],
   "source": [
    "# Convert file to C\n",
    "location_csv.to_csv(\"Resources/location_csv.csv\")"
   ]
  },
  {
   "cell_type": "code",
   "execution_count": 9,
   "metadata": {},
   "outputs": [],
   "source": [
    "# Converted CSV file to a JSON file to match what we are used to working with \n",
    "def csv_to_json(location_csv, location_json):\n",
    "    # Read CSV file\n",
    "    with open(location_csv, 'r') as csvfile:\n",
    "        # Assuming the first row contains the header\n",
    "        reader = CsV.DictReader(csvfile)\n",
    "        # Convert CSV to JSON\n",
    "        data = [row for row in reader]\n",
    "    # Write JSON file\n",
    "    with open(location_json, 'w') as jsonfile:\n",
    "        json.dump(data, jsonfile, indent=4)\n",
    "\n",
    "# Define the path to the folder where you want to save the JSON file\n",
    "folder_path = \"Resources\"\n",
    "\n",
    "# Define the file name for the JSON file\n",
    "json_filename = \"location_json.json\"\n",
    "\n",
    "# Combine the folder path and the file name\n",
    "location_json = os.path.join(folder_path, json_filename)\n",
    "\n",
    "# Call the function with the CSV and JSON file paths\n",
    "csv_to_json(\"Resources/location_csv.csv\", location_json)"
   ]
  }
 ],
 "metadata": {
  "kernelspec": {
   "display_name": "dev",
   "language": "python",
   "name": "python3"
  },
  "language_info": {
   "codemirror_mode": {
    "name": "ipython",
    "version": 3
   },
   "file_extension": ".py",
   "mimetype": "text/x-python",
   "name": "python",
   "nbconvert_exporter": "python",
   "pygments_lexer": "ipython3",
   "version": "3.10.13"
  }
 },
 "nbformat": 4,
 "nbformat_minor": 2
}
