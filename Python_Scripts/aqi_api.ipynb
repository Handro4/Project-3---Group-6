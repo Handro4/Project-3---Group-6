{
 "cells": [
  {
   "cell_type": "code",
   "execution_count": 1,
   "metadata": {},
   "outputs": [],
   "source": [
    "# Import dependencies\n",
    "import requests\n",
    "import json\n",
    "from config import api_key, email\n",
    "from pprint import pprint\n",
    "\n",
    "import time\n",
    "import os\n",
    "import pandas as pd\n",
    "import statistics as st"
   ]
  },
  {
   "cell_type": "code",
   "execution_count": 2,
   "metadata": {},
   "outputs": [],
   "source": [
    "# Set variables to use with the URL\n",
    "url_base = \"https://aqs.epa.gov/data/api/annualData/byState\"\n",
    "param = \"&param=42101,42401,42602,44201,88101\"\n",
    "api_key_value = \"&key=\" + api_key\n",
    "dates = \"&bdate=20200101&edate=20201231&\"\n",
    "state = \"state=\"\n",
    "email_address = \"?email=\" + email\n",
    "query_url = url_base + email_address + api_key_value + param + dates + state"
   ]
  },
  {
   "cell_type": "code",
   "execution_count": 3,
   "metadata": {},
   "outputs": [],
   "source": [
    "final_dict = {'State': [], 'Ozone': [], 'NO2': [], 'SO2': [], 'CO': [], 'PM 2.5': []}"
   ]
  },
  {
   "cell_type": "code",
   "execution_count": 6,
   "metadata": {},
   "outputs": [
    {
     "name": "stdout",
     "output_type": "stream",
     "text": [
      "1\n",
      "4\n",
      "5\n",
      "6\n",
      "8\n",
      "9\n"
     ]
    }
   ],
   "source": [
    "# For loop to loop through the data by state code\n",
    "for i in range(1,10):\n",
    "    if i in [2, 3, 7]:\n",
    "        continue\n",
    "     \n",
    "    aqi_response = requests.get(f\"{query_url}0{i}\")\n",
    "    aqi_json = aqi_response.json()\n",
    "    data = aqi_json['Data']\n",
    "    print(i)\n",
    "    ozone = []\n",
    "    no2 = []\n",
    "    so2 = []\n",
    "    co = []\n",
    "    pm_2_5 = []\n",
    "    for element in data:\n",
    "        if element['parameter_code'] == '44201':\n",
    "            ozone.append(element['arithmetic_mean'])\n",
    "        elif element['parameter_code'] == '42602':\n",
    "            no2.append(element['arithmetic_mean'])\n",
    "        elif element['parameter_code'] == '42401':\n",
    "            so2.append(element['arithmetic_mean'])\n",
    "        elif element['parameter_code'] == '42101':\n",
    "            co.append(element['arithmetic_mean'])\n",
    "        elif element['parameter_code'] == '88101':\n",
    "            pm_2_5.append(element['arithmetic_mean'])\n",
    "    ozone_avg =max(ozone)\n",
    "    no2_avg = max(no2)\n",
    "    so2_avg = max(so2)\n",
    "    co_avg = max(co)\n",
    "    pm_2_5_avg = max(pm_2_5)\n",
    "    final_dict['State'].append(i)\n",
    "    final_dict['Ozone'].append(ozone_avg)\n",
    "    final_dict['NO2'].append(no2_avg)\n",
    "    final_dict['SO2'].append(so2_avg)\n",
    "    final_dict['CO'].append(co_avg)\n",
    "    final_dict['PM 2.5'].append(pm_2_5_avg)\n",
    "\n",
    "    time.sleep(10)"
   ]
  },
  {
   "cell_type": "code",
   "execution_count": 7,
   "metadata": {},
   "outputs": [
    {
     "name": "stdout",
     "output_type": "stream",
     "text": [
      "10\n",
      "11\n",
      "12\n",
      "13\n",
      "15\n",
      "16\n",
      "17\n",
      "18\n",
      "19\n",
      "20\n",
      "21\n",
      "22\n",
      "23\n",
      "24\n",
      "25\n",
      "26\n",
      "27\n",
      "28\n",
      "29\n",
      "30\n",
      "32\n",
      "33\n",
      "34\n",
      "35\n",
      "36\n",
      "37\n",
      "38\n",
      "39\n",
      "40\n",
      "41\n",
      "42\n",
      "44\n",
      "45\n",
      "46\n",
      "47\n",
      "48\n",
      "49\n",
      "50\n",
      "51\n",
      "53\n",
      "55\n",
      "56\n"
     ]
    }
   ],
   "source": [
    "# For loop to loop through the data by state code\n",
    "for i in range(10,57):\n",
    "    if i in [14, 31, 43, 52, 54]:\n",
    "        continue\n",
    "     \n",
    "    aqi_response = requests.get(f\"{query_url}{i}\")\n",
    "    aqi_json = aqi_response.json()\n",
    "    data = aqi_json['Data']\n",
    "    print(i)\n",
    "    ozone = []\n",
    "    no2 = []\n",
    "    so2 = []\n",
    "    co = []\n",
    "    pm_2_5 = []\n",
    "    for element in data:\n",
    "        if element['parameter_code'] == '44201':\n",
    "            ozone.append(element['arithmetic_mean'])\n",
    "        elif element['parameter_code'] == '42602':\n",
    "            no2.append(element['arithmetic_mean'])\n",
    "        elif element['parameter_code'] == '42401':\n",
    "            so2.append(element['arithmetic_mean'])\n",
    "        elif element['parameter_code'] == '42101':\n",
    "            co.append(element['arithmetic_mean'])\n",
    "        elif element['parameter_code'] == '88101':\n",
    "            pm_2_5.append(element['arithmetic_mean'])\n",
    "    ozone_avg = max(ozone)\n",
    "    no2_avg = max(no2)\n",
    "    so2_avg = max(so2)\n",
    "    co_avg = max(co)\n",
    "    pm_2_5_avg = max(pm_2_5)\n",
    "    final_dict['State'].append(i)\n",
    "    final_dict['Ozone'].append(ozone_avg)\n",
    "    final_dict['NO2'].append(no2_avg)\n",
    "    final_dict['SO2'].append(so2_avg)\n",
    "    final_dict['CO'].append(co_avg)\n",
    "    final_dict['PM 2.5'].append(pm_2_5_avg)\n",
    "\n",
    "    time.sleep(10)\n"
   ]
  },
  {
   "cell_type": "code",
   "execution_count": 8,
   "metadata": {},
   "outputs": [],
   "source": [
    "## AQI DataFrame by State and Parameter\n",
    "\n",
    "final_df = pd.DataFrame(final_dict)\n"
   ]
  },
  {
   "cell_type": "code",
   "execution_count": 9,
   "metadata": {},
   "outputs": [
    {
     "data": {
      "text/html": [
       "<div>\n",
       "<style scoped>\n",
       "    .dataframe tbody tr th:only-of-type {\n",
       "        vertical-align: middle;\n",
       "    }\n",
       "\n",
       "    .dataframe tbody tr th {\n",
       "        vertical-align: top;\n",
       "    }\n",
       "\n",
       "    .dataframe thead th {\n",
       "        text-align: right;\n",
       "    }\n",
       "</style>\n",
       "<table border=\"1\" class=\"dataframe\">\n",
       "  <thead>\n",
       "    <tr style=\"text-align: right;\">\n",
       "      <th></th>\n",
       "      <th>State</th>\n",
       "      <th>Ozone</th>\n",
       "      <th>NO2</th>\n",
       "      <th>SO2</th>\n",
       "      <th>CO</th>\n",
       "      <th>PM 2.5</th>\n",
       "    </tr>\n",
       "  </thead>\n",
       "  <tbody>\n",
       "    <tr>\n",
       "      <th>0</th>\n",
       "      <td>1</td>\n",
       "      <td>0.045526</td>\n",
       "      <td>22.978000</td>\n",
       "      <td>4.673446</td>\n",
       "      <td>0.345078</td>\n",
       "      <td>10.016438</td>\n",
       "    </tr>\n",
       "    <tr>\n",
       "      <th>1</th>\n",
       "      <td>4</td>\n",
       "      <td>0.057240</td>\n",
       "      <td>38.920330</td>\n",
       "      <td>12.117582</td>\n",
       "      <td>0.684723</td>\n",
       "      <td>17.213333</td>\n",
       "    </tr>\n",
       "    <tr>\n",
       "      <th>2</th>\n",
       "      <td>5</td>\n",
       "      <td>0.043364</td>\n",
       "      <td>17.477596</td>\n",
       "      <td>1.180055</td>\n",
       "      <td>0.287533</td>\n",
       "      <td>9.809836</td>\n",
       "    </tr>\n",
       "    <tr>\n",
       "      <th>3</th>\n",
       "      <td>6</td>\n",
       "      <td>0.074551</td>\n",
       "      <td>43.779130</td>\n",
       "      <td>3.285256</td>\n",
       "      <td>0.620842</td>\n",
       "      <td>40.764417</td>\n",
       "    </tr>\n",
       "    <tr>\n",
       "      <th>4</th>\n",
       "      <td>8</td>\n",
       "      <td>0.065656</td>\n",
       "      <td>43.903683</td>\n",
       "      <td>2.054972</td>\n",
       "      <td>0.437755</td>\n",
       "      <td>10.486665</td>\n",
       "    </tr>\n",
       "  </tbody>\n",
       "</table>\n",
       "</div>"
      ],
      "text/plain": [
       "   State     Ozone        NO2        SO2        CO     PM 2.5\n",
       "0      1  0.045526  22.978000   4.673446  0.345078  10.016438\n",
       "1      4  0.057240  38.920330  12.117582  0.684723  17.213333\n",
       "2      5  0.043364  17.477596   1.180055  0.287533   9.809836\n",
       "3      6  0.074551  43.779130   3.285256  0.620842  40.764417\n",
       "4      8  0.065656  43.903683   2.054972  0.437755  10.486665"
      ]
     },
     "execution_count": 9,
     "metadata": {},
     "output_type": "execute_result"
    }
   ],
   "source": [
    "final_df.head()"
   ]
  },
  {
   "cell_type": "code",
   "execution_count": 10,
   "metadata": {},
   "outputs": [
    {
     "data": {
      "text/plain": [
       "State       int64\n",
       "Ozone     float64\n",
       "NO2       float64\n",
       "SO2       float64\n",
       "CO        float64\n",
       "PM 2.5    float64\n",
       "dtype: object"
      ]
     },
     "execution_count": 10,
     "metadata": {},
     "output_type": "execute_result"
    }
   ],
   "source": [
    "final_df.dtypes"
   ]
  },
  {
   "cell_type": "code",
   "execution_count": 11,
   "metadata": {},
   "outputs": [],
   "source": [
    "# Write a state name URL\n",
    "state_base = \"https://aqs.epa.gov/data/api/list/states\"\n",
    "api_key_value = \"&key=\" + api_key\n",
    "email_address = \"?email=\" + email\n",
    "state_url = state_base + email_address + api_key_value"
   ]
  },
  {
   "cell_type": "code",
   "execution_count": 12,
   "metadata": {},
   "outputs": [
    {
     "name": "stdout",
     "output_type": "stream",
     "text": [
      "{'Data': [{'code': '01', 'value_represented': 'Alabama'},\n",
      "          {'code': '02', 'value_represented': 'Alaska'},\n",
      "          {'code': '04', 'value_represented': 'Arizona'},\n",
      "          {'code': '05', 'value_represented': 'Arkansas'},\n",
      "          {'code': '06', 'value_represented': 'California'},\n",
      "          {'code': '08', 'value_represented': 'Colorado'},\n",
      "          {'code': '09', 'value_represented': 'Connecticut'},\n",
      "          {'code': '10', 'value_represented': 'Delaware'},\n",
      "          {'code': '11', 'value_represented': 'District Of Columbia'},\n",
      "          {'code': '12', 'value_represented': 'Florida'},\n",
      "          {'code': '13', 'value_represented': 'Georgia'},\n",
      "          {'code': '15', 'value_represented': 'Hawaii'},\n",
      "          {'code': '16', 'value_represented': 'Idaho'},\n",
      "          {'code': '17', 'value_represented': 'Illinois'},\n",
      "          {'code': '18', 'value_represented': 'Indiana'},\n",
      "          {'code': '19', 'value_represented': 'Iowa'},\n",
      "          {'code': '20', 'value_represented': 'Kansas'},\n",
      "          {'code': '21', 'value_represented': 'Kentucky'},\n",
      "          {'code': '22', 'value_represented': 'Louisiana'},\n",
      "          {'code': '23', 'value_represented': 'Maine'},\n",
      "          {'code': '24', 'value_represented': 'Maryland'},\n",
      "          {'code': '25', 'value_represented': 'Massachusetts'},\n",
      "          {'code': '26', 'value_represented': 'Michigan'},\n",
      "          {'code': '27', 'value_represented': 'Minnesota'},\n",
      "          {'code': '28', 'value_represented': 'Mississippi'},\n",
      "          {'code': '29', 'value_represented': 'Missouri'},\n",
      "          {'code': '30', 'value_represented': 'Montana'},\n",
      "          {'code': '31', 'value_represented': 'Nebraska'},\n",
      "          {'code': '32', 'value_represented': 'Nevada'},\n",
      "          {'code': '33', 'value_represented': 'New Hampshire'},\n",
      "          {'code': '34', 'value_represented': 'New Jersey'},\n",
      "          {'code': '35', 'value_represented': 'New Mexico'},\n",
      "          {'code': '36', 'value_represented': 'New York'},\n",
      "          {'code': '37', 'value_represented': 'North Carolina'},\n",
      "          {'code': '38', 'value_represented': 'North Dakota'},\n",
      "          {'code': '39', 'value_represented': 'Ohio'},\n",
      "          {'code': '40', 'value_represented': 'Oklahoma'},\n",
      "          {'code': '41', 'value_represented': 'Oregon'},\n",
      "          {'code': '42', 'value_represented': 'Pennsylvania'},\n",
      "          {'code': '44', 'value_represented': 'Rhode Island'},\n",
      "          {'code': '45', 'value_represented': 'South Carolina'},\n",
      "          {'code': '46', 'value_represented': 'South Dakota'},\n",
      "          {'code': '47', 'value_represented': 'Tennessee'},\n",
      "          {'code': '48', 'value_represented': 'Texas'},\n",
      "          {'code': '49', 'value_represented': 'Utah'},\n",
      "          {'code': '50', 'value_represented': 'Vermont'},\n",
      "          {'code': '51', 'value_represented': 'Virginia'},\n",
      "          {'code': '53', 'value_represented': 'Washington'},\n",
      "          {'code': '54', 'value_represented': 'West Virginia'},\n",
      "          {'code': '55', 'value_represented': 'Wisconsin'},\n",
      "          {'code': '56', 'value_represented': 'Wyoming'},\n",
      "          {'code': '66', 'value_represented': 'Guam'},\n",
      "          {'code': '72', 'value_represented': 'Puerto Rico'},\n",
      "          {'code': '78', 'value_represented': 'Virgin Islands'},\n",
      "          {'code': '80', 'value_represented': 'Country Of Mexico'},\n",
      "          {'code': 'CC', 'value_represented': 'Canada'}],\n",
      " 'Header': [{'request_time': '2024-02-17T15:10:44-05:00',\n",
      "             'rows': 56,\n",
      "             'status': 'Success',\n",
      "             'url': 'https://aqs.epa.gov/data/api/list/states?email=alexandriaorvis@gmail.com&key=greyfrog65'}]}\n"
     ]
    }
   ],
   "source": [
    "## Call state name data to merge with final_df\n",
    "\n",
    "state_dict = {'State': [], 'State Name': []}\n",
    "state_name = []\n",
    "    \n",
    "aqi_response = requests.get(state_url)\n",
    "state_json = aqi_response.json()\n",
    "pprint (state_json)\n"
   ]
  },
  {
   "cell_type": "code",
   "execution_count": 13,
   "metadata": {},
   "outputs": [],
   "source": [
    "# Get state name and codes from the state_json response\n",
    "state_code = [row['code'] for row in state_json['Data']]\n",
    "state_name = [row['value_represented'] for row in state_json['Data']]\n",
    "\n",
    "# Make a DataFrame with the state codes and names\n",
    "state_df = pd.DataFrame({\"State\": state_code, \"State Name\": state_name})"
   ]
  },
  {
   "cell_type": "code",
   "execution_count": 14,
   "metadata": {},
   "outputs": [],
   "source": [
    "# Delete canada because it can't be converted to an integer\n",
    "no_can_state_df=state_df.drop(55)"
   ]
  },
  {
   "cell_type": "code",
   "execution_count": 15,
   "metadata": {},
   "outputs": [],
   "source": [
    "# Convert state code to an integer to prepare for a merge with the final_df\n",
    "no_can_state_df['State'] = no_can_state_df['State'].astype(int)"
   ]
  },
  {
   "cell_type": "code",
   "execution_count": 16,
   "metadata": {},
   "outputs": [
    {
     "data": {
      "text/plain": [
       "State       int64\n",
       "Ozone     float64\n",
       "NO2       float64\n",
       "SO2       float64\n",
       "CO        float64\n",
       "PM 2.5    float64\n",
       "dtype: object"
      ]
     },
     "execution_count": 16,
     "metadata": {},
     "output_type": "execute_result"
    }
   ],
   "source": [
    "#Check column types \n",
    "final_df.dtypes"
   ]
  },
  {
   "cell_type": "code",
   "execution_count": 17,
   "metadata": {},
   "outputs": [
    {
     "data": {
      "text/plain": [
       "State          int64\n",
       "State Name    object\n",
       "dtype: object"
      ]
     },
     "execution_count": 17,
     "metadata": {},
     "output_type": "execute_result"
    }
   ],
   "source": [
    "no_can_state_df.dtypes"
   ]
  },
  {
   "cell_type": "code",
   "execution_count": 19,
   "metadata": {},
   "outputs": [],
   "source": [
    "final_state_df = pd.merge(final_df, no_can_state_df, on='State')\n",
    "\n"
   ]
  },
  {
   "cell_type": "code",
   "execution_count": 20,
   "metadata": {},
   "outputs": [
    {
     "data": {
      "text/html": [
       "<div>\n",
       "<style scoped>\n",
       "    .dataframe tbody tr th:only-of-type {\n",
       "        vertical-align: middle;\n",
       "    }\n",
       "\n",
       "    .dataframe tbody tr th {\n",
       "        vertical-align: top;\n",
       "    }\n",
       "\n",
       "    .dataframe thead th {\n",
       "        text-align: right;\n",
       "    }\n",
       "</style>\n",
       "<table border=\"1\" class=\"dataframe\">\n",
       "  <thead>\n",
       "    <tr style=\"text-align: right;\">\n",
       "      <th></th>\n",
       "      <th>State</th>\n",
       "      <th>State Name</th>\n",
       "      <th>Ozone</th>\n",
       "      <th>NO2</th>\n",
       "      <th>SO2</th>\n",
       "      <th>CO</th>\n",
       "      <th>PM 2.5</th>\n",
       "    </tr>\n",
       "  </thead>\n",
       "  <tbody>\n",
       "    <tr>\n",
       "      <th>0</th>\n",
       "      <td>1</td>\n",
       "      <td>Alabama</td>\n",
       "      <td>0.045526</td>\n",
       "      <td>22.978000</td>\n",
       "      <td>4.673446</td>\n",
       "      <td>0.345078</td>\n",
       "      <td>10.016438</td>\n",
       "    </tr>\n",
       "    <tr>\n",
       "      <th>1</th>\n",
       "      <td>4</td>\n",
       "      <td>Arizona</td>\n",
       "      <td>0.057240</td>\n",
       "      <td>38.920330</td>\n",
       "      <td>12.117582</td>\n",
       "      <td>0.684723</td>\n",
       "      <td>17.213333</td>\n",
       "    </tr>\n",
       "    <tr>\n",
       "      <th>2</th>\n",
       "      <td>5</td>\n",
       "      <td>Arkansas</td>\n",
       "      <td>0.043364</td>\n",
       "      <td>17.477596</td>\n",
       "      <td>1.180055</td>\n",
       "      <td>0.287533</td>\n",
       "      <td>9.809836</td>\n",
       "    </tr>\n",
       "    <tr>\n",
       "      <th>3</th>\n",
       "      <td>6</td>\n",
       "      <td>California</td>\n",
       "      <td>0.074551</td>\n",
       "      <td>43.779130</td>\n",
       "      <td>3.285256</td>\n",
       "      <td>0.620842</td>\n",
       "      <td>40.764417</td>\n",
       "    </tr>\n",
       "    <tr>\n",
       "      <th>4</th>\n",
       "      <td>8</td>\n",
       "      <td>Colorado</td>\n",
       "      <td>0.065656</td>\n",
       "      <td>43.903683</td>\n",
       "      <td>2.054972</td>\n",
       "      <td>0.437755</td>\n",
       "      <td>10.486665</td>\n",
       "    </tr>\n",
       "  </tbody>\n",
       "</table>\n",
       "</div>"
      ],
      "text/plain": [
       "   State  State Name     Ozone        NO2        SO2        CO     PM 2.5\n",
       "0      1     Alabama  0.045526  22.978000   4.673446  0.345078  10.016438\n",
       "1      4     Arizona  0.057240  38.920330  12.117582  0.684723  17.213333\n",
       "2      5    Arkansas  0.043364  17.477596   1.180055  0.287533   9.809836\n",
       "3      6  California  0.074551  43.779130   3.285256  0.620842  40.764417\n",
       "4      8    Colorado  0.065656  43.903683   2.054972  0.437755  10.486665"
      ]
     },
     "execution_count": 20,
     "metadata": {},
     "output_type": "execute_result"
    }
   ],
   "source": [
    "final_state_df = final_state_df[['State', 'State Name',\t\"Ozone\", \"NO2\", \"SO2\", \"CO\", \"PM 2.5\"]]\n",
    "final_state_df.head()"
   ]
  },
  {
   "cell_type": "code",
   "execution_count": 21,
   "metadata": {},
   "outputs": [],
   "source": [
    "# Save this dataframe as a CSV\n",
    "final_state_df.to_csv('../Resources/max_aqi_csv.csv', index=False)"
   ]
  },
  {
   "cell_type": "code",
   "execution_count": null,
   "metadata": {},
   "outputs": [],
   "source": []
  },
  {
   "cell_type": "code",
   "execution_count": null,
   "metadata": {},
   "outputs": [],
   "source": []
  }
 ],
 "metadata": {
  "kernelspec": {
   "display_name": "dev",
   "language": "python",
   "name": "python3"
  },
  "language_info": {
   "codemirror_mode": {
    "name": "ipython",
    "version": 3
   },
   "file_extension": ".py",
   "mimetype": "text/x-python",
   "name": "python",
   "nbconvert_exporter": "python",
   "pygments_lexer": "ipython3",
   "version": "3.10.13"
  }
 },
 "nbformat": 4,
 "nbformat_minor": 2
}
